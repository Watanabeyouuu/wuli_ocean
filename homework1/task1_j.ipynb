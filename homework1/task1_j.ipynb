{
 "cells": [
  {
   "cell_type": "code",
   "execution_count": 29,
   "id": "3583b717",
   "metadata": {},
   "outputs": [],
   "source": [
    "import numpy as np\n",
    "import netCDF4 as nc"
   ]
  },
  {
   "cell_type": "code",
   "execution_count": 30,
   "id": "ee97d1b2",
   "metadata": {},
   "outputs": [],
   "source": [
    "file_path = 'data/shortrad.cdf'\n",
    "file_obj = nc.Dataset(file_path)"
   ]
  },
  {
   "cell_type": "code",
   "execution_count": 31,
   "id": "cdb76128",
   "metadata": {},
   "outputs": [
    {
     "data": {
      "text/plain": "dict_keys(['X', 'Y', 'T', 'shortrad'])"
     },
     "execution_count": 31,
     "metadata": {},
     "output_type": "execute_result"
    }
   ],
   "source": [
    "file_obj.variables.keys()"
   ]
  },
  {
   "cell_type": "code",
   "execution_count": 32,
   "id": "29616a53",
   "metadata": {},
   "outputs": [
    {
     "data": {
      "text/plain": "<class 'netCDF4._netCDF4.Dataset'>\nroot group (NETCDF3_CLASSIC data model, file format NETCDF3):\n    dimensions(sizes): X(720), Y(360), T(12)\n    variables(dimensions): float32 X(X), float32 Y(Y), float32 T(T), float32 shortrad(T, Y, X)\n    groups: "
     },
     "execution_count": 32,
     "metadata": {},
     "output_type": "execute_result"
    }
   ],
   "source": [
    "file_obj"
   ]
  },
  {
   "cell_type": "code",
   "execution_count": 32,
   "id": "3c859bd4",
   "metadata": {},
   "outputs": [],
   "source": []
  },
  {
   "cell_type": "code",
   "execution_count": 32,
   "outputs": [],
   "source": [],
   "metadata": {
    "collapsed": false,
    "pycharm": {
     "name": "#%%\n"
    }
   }
  }
 ],
 "metadata": {
  "kernelspec": {
   "display_name": "Python 3",
   "language": "python",
   "name": "python3"
  },
  "language_info": {
   "codemirror_mode": {
    "name": "ipython",
    "version": 3
   },
   "file_extension": ".py",
   "mimetype": "text/x-python",
   "name": "python",
   "nbconvert_exporter": "python",
   "pygments_lexer": "ipython3",
   "version": "3.8.11"
  }
 },
 "nbformat": 4,
 "nbformat_minor": 5
}